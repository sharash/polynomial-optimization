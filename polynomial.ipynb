{
 "cells": [
  {
   "cell_type": "markdown",
   "metadata": {},
   "source": [
    "Consider the following optimization problem: we wish to find a polynomial $p(x)=a+bx+cx^2+...$ of degree $n$ such that $p'(0)$ is maximized on $|x| \\leq 1$, subject to $|p(x)| \\leq 1$."
   ]
  },
  {
   "cell_type": "markdown",
   "metadata": {},
   "source": [
    "Now, note that $p'(0)=b$. The problem is that our function and our constraints are polynomial, not convex, which is a problem for our solvers. However, we can get around this problem as follows: randomly sample a number of points $x_i$, and evaluate our constraints at those points; the resulting set of constraints are used to formulate and solve a linear program, which approximates the exact solution well."
   ]
  },
  {
   "cell_type": "code",
   "execution_count": 23,
   "metadata": {},
   "outputs": [],
   "source": [
    "import numpy as np\n",
    "import cvxpy as cp\n",
    "np.random.seed(1234)\n",
    "np.set_printoptions(precision=2, suppress=True)\n",
    "\n",
    "def pol_calc(c, x): # calculation of polynomial at points x\n",
    "    return sum(c[i] * (x**i) for i in range(c.size))\n",
    "    \n",
    "def solve_degree_n(n, n_sample=1e4, verbose=True):\n",
    "    C = cp.Variable((n+1))\n",
    "    x = np.random.uniform(-1,1,n_sample)\n",
    "    pol_x = pol_calc(C, x) # evaluate polynomial at x\n",
    "    constraints = [px_i>=-1 for px_i in pol_x] + [px_i<=1 for px_i in pol_x]\n",
    "    \n",
    "    problem = cp.Problem(cp.Maximize(C[1]), constraints)\n",
    "    problem.solve(solver=cp.GLPK)\n",
    "    if verbose:\n",
    "        print(problem.status)\n",
    "        print(problem.value)\n",
    "    \n",
    "    return C.value"
   ]
  },
  {
   "cell_type": "code",
   "execution_count": 22,
   "metadata": {
    "scrolled": true
   },
   "outputs": [
    {
     "name": "stdout",
     "output_type": "stream",
     "text": [
      "For degree: 1:\n",
      "[0. 1.]\n",
      "For degree: 2:\n",
      "[ 0.5  1.  -0.5]\n",
      "For degree: 3:\n",
      "[-0.  3.  0. -4.]\n",
      "For degree: 4:\n",
      "[ 0.  3. -0. -4. -0.]\n",
      "For degree: 5:\n",
      "[ -0.     5.     0.01 -20.01  -0.01  16.01]\n",
      "For degree: 6:\n",
      "[  0.     5.    -0.   -20.     0.01  16.    -0.01]\n",
      "For degree: 7:\n",
      "[  0.     7.    -0.04 -56.08   0.15 112.27  -0.12 -64.22]\n",
      "For degree: 8:\n",
      "[  0.     7.    -0.01 -56.02   0.04 112.07  -0.05 -64.06   0.02]\n"
     ]
    }
   ],
   "source": [
    "for n in range(1,9):\n",
    "    sol=solve_degree_n(n, 5000, verbose=False)\n",
    "    print(\"For degree: \" + str(n) + \":\")\n",
    "    print(sol)"
   ]
  },
  {
   "cell_type": "markdown",
   "metadata": {},
   "source": [
    "With the random sampling we have obtained a good approximation of the optimal solution, and if we round off the small decimals we can start to discern some patterns in the coefficients. We see that for degree $2k$ the coefficients are the same as for degree $2k-1$, with the exception of degree 2. Looking closer, we might notice that the polynomial of degree $2k-1$ is the [Chebyshev polynomials of the first kind](https://en.wikipedia.org/wiki/Chebyshev_polynomials) of degree $2k-1$ (up to a change in sign, which might flip to maximize $b$). Subsequently, we can use the following fact about Chebyshev polynomials of the first kind: in general \n",
    "\n",
    "$|p'(0)| \\leq k$."
   ]
  }
 ],
 "metadata": {
  "kernelspec": {
   "display_name": "Python [conda env:linalg]",
   "language": "python",
   "name": "conda-env-linalg-py"
  },
  "language_info": {
   "codemirror_mode": {
    "name": "ipython",
    "version": 3
   },
   "file_extension": ".py",
   "mimetype": "text/x-python",
   "name": "python",
   "nbconvert_exporter": "python",
   "pygments_lexer": "ipython3",
   "version": "3.8.5"
  }
 },
 "nbformat": 4,
 "nbformat_minor": 4
}
